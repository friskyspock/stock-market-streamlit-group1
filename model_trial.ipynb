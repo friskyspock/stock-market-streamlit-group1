{
 "cells": [
  {
   "cell_type": "code",
   "execution_count": 1,
   "metadata": {},
   "outputs": [],
   "source": [
    "import pandas as pd\n",
    "import numpy as np\n",
    "import matplotlib.pyplot as plt\n",
    "import warnings\n",
    "warnings.filterwarnings('ignore')\n",
    "\n",
    "import yfinance as yf\n",
    "\n",
    "from sklearn.preprocessing import MinMaxScaler\n",
    "from sklearn.metrics import mean_squared_error\n",
    "\n",
    "from keras.models import Sequential\n",
    "from keras.layers import Dense, LSTM"
   ]
  },
  {
   "cell_type": "code",
   "execution_count": 45,
   "metadata": {},
   "outputs": [
    {
     "name": "stdout",
     "output_type": "stream",
     "text": [
      "[*********************100%***********************]  1 of 1 completed\n"
     ]
    }
   ],
   "source": [
    "# downloading data\n",
    "start_date = '2013-01-01'\n",
    "end_date = '2023-06-05'\n",
    "data = yf.download(tickers=\"RELIANCE.NS\",start=start_date,end=end_date,period='1d')\n",
    "array = data['Close'].to_numpy()\n",
    "dates = data.index"
   ]
  },
  {
   "cell_type": "code",
   "execution_count": 46,
   "metadata": {},
   "outputs": [],
   "source": [
    "time_steps = 80\n",
    "len_array = len(array)\n",
    "scaler = MinMaxScaler()\n",
    "scaled_array = scaler.fit_transform(array.reshape(-1,1))"
   ]
  },
  {
   "cell_type": "code",
   "execution_count": 47,
   "metadata": {},
   "outputs": [
    {
     "name": "stdout",
     "output_type": "stream",
     "text": [
      "train length is 2442 , test length is 129\n",
      "dates train length is 2361 , dates test length is 48\n"
     ]
    }
   ],
   "source": [
    "n = int(np.round(len_array*0.05))\n",
    "train = scaled_array[:-n]\n",
    "test = scaled_array[-n:]\n",
    "dates_train = dates[:-n]\n",
    "dates_test = dates[-n:]\n",
    "print('train length is',len(train),', test length is',len(test))\n",
    "\n",
    "dates_train = dates_train[time_steps+1:]\n",
    "dates_test = dates_test[time_steps+1:]\n",
    "print('dates train length is',len(dates_train),', dates test length is',len(dates_test))"
   ]
  },
  {
   "cell_type": "code",
   "execution_count": 48,
   "metadata": {},
   "outputs": [],
   "source": [
    "def process_data(data_array):\n",
    "  y_data = data_array[time_steps+1:]\n",
    "  x_data = np.concatenate([data_array[j:len(data_array)+j-1-time_steps] for j in range(time_steps+1)],axis=1)\n",
    "  x_data = x_data.reshape((len(data_array)-time_steps-1,time_steps+1,1))\n",
    "  #print('xdata shape is',x_data.shape,', ydata length is',len(y_data))\n",
    "  return x_data, y_data\n",
    "\n",
    "x_train, y_train = process_data(train)\n",
    "x_test, y_test = process_data(test)"
   ]
  },
  {
   "cell_type": "code",
   "execution_count": null,
   "metadata": {},
   "outputs": [],
   "source": []
  },
  {
   "cell_type": "code",
   "execution_count": 49,
   "metadata": {},
   "outputs": [
    {
     "name": "stdout",
     "output_type": "stream",
     "text": [
      "Model: \"sequential_4\"\n",
      "_________________________________________________________________\n",
      " Layer (type)                Output Shape              Param #   \n",
      "=================================================================\n",
      " lstm_12 (LSTM)              (None, 81, 50)            10400     \n",
      "                                                                 \n",
      " lstm_13 (LSTM)              (None, 81, 50)            20200     \n",
      "                                                                 \n",
      " lstm_14 (LSTM)              (None, 50)                20200     \n",
      "                                                                 \n",
      " dense_4 (Dense)             (None, 1)                 51        \n",
      "                                                                 \n",
      "=================================================================\n",
      "Total params: 50,851\n",
      "Trainable params: 50,851\n",
      "Non-trainable params: 0\n",
      "_________________________________________________________________\n",
      "None\n",
      "Epoch 1/5\n",
      "19/19 [==============================] - 12s 68ms/step - loss: 0.0302\n",
      "Epoch 2/5\n",
      "19/19 [==============================] - 1s 67ms/step - loss: 0.0026\n",
      "Epoch 3/5\n",
      "19/19 [==============================] - 1s 65ms/step - loss: 0.0011\n",
      "Epoch 4/5\n",
      "19/19 [==============================] - 1s 63ms/step - loss: 9.2312e-04\n",
      "Epoch 5/5\n",
      "19/19 [==============================] - 1s 78ms/step - loss: 8.6365e-04\n",
      "2/2 [==============================] - 3s 39ms/step\n",
      "RMSE on test data 5671.3515678433105\n"
     ]
    }
   ],
   "source": [
    "model = Sequential([\n",
    "    LSTM(50, return_sequences=True, input_shape=(time_steps+1,1)),\n",
    "    LSTM(50, return_sequences=True),\n",
    "    LSTM(50),\n",
    "    Dense(1)\n",
    "    ])\n",
    "model.compile(loss='mean_squared_error',optimizer='adam')\n",
    "print(model.summary())\n",
    "\n",
    "history = model.fit(x_train,y_train,epochs=5,batch_size=128)\n",
    "\n",
    "y_pred = model.predict(x_test)\n",
    "unscaled_y_pred = scaler.inverse_transform(y_pred)\n",
    "unscaled_y_test = scaler.inverse_transform(y_test)\n",
    "print('RMSE on test data',mean_squared_error(unscaled_y_test,unscaled_y_pred))"
   ]
  },
  {
   "cell_type": "code",
   "execution_count": 50,
   "metadata": {},
   "outputs": [
    {
     "data": {
      "text/plain": [
       "[<matplotlib.lines.Line2D at 0x2c6c0ecd1e0>]"
      ]
     },
     "execution_count": 50,
     "metadata": {},
     "output_type": "execute_result"
    },
    {
     "data": {
      "image/png": "[encoded data removed]",
      "text/plain": [
       "<Figure size 640x480 with 1 Axes>"
      ]
     },
     "metadata": {},
     "output_type": "display_data"
    }
   ],
   "source": [
    "\n",
    "def predict_future(n_steps):\n",
    "  pred_dates = pd.bdate_range(start=dates[-1],periods=n_steps)\n",
    "  array = scaled_array[-(time_steps+2):] \n",
    "  pred_stocks = np.empty(n_steps) # initial empty list\n",
    "  for i in range(n_steps):\n",
    "    x,y = process_data(array)\n",
    "    y_pred = model.predict(x)\n",
    "    y_pred_unscaled = scaler.inverse_transform(y_pred.reshape(1,-1)) #[[value]]\n",
    "    pred_stocks[i] = y_pred_unscaled.flatten()\n",
    "    array = np.append(array,y_pred,axis=0)\n",
    "    array = array[1:]\n",
    "  return pred_stocks, pred_dates\n",
    "\n",
    "fig1,ax1 = plt.subplots()\n",
    "ax1.plot(dates,array)"
   ]
  },
  {
   "attachments": {},
   "cell_type": "markdown",
   "metadata": {},
   "source": [
    "## model in different function"
   ]
  },
  {
   "cell_type": "code",
   "execution_count": 2,
   "metadata": {},
   "outputs": [
    {
     "name": "stdout",
     "output_type": "stream",
     "text": [
      "[*********************100%***********************]  1 of 1 completed\n"
     ]
    }
   ],
   "source": [
    "def load_train_data(start_date, end_date,time_steps):\n",
    "    data = yf.download(tickers=\"RELIANCE.NS\",start=start_date,end=end_date,period='1d')\n",
    "    array = data['Close'].to_numpy()\n",
    "    dates = data.index\n",
    "    len_array = len(array)\n",
    "    scaler = MinMaxScaler()\n",
    "    scaled_array = scaler.fit_transform(array.reshape(-1,1))\n",
    "    n = int(np.round(len_array*0.25))\n",
    "    train = scaled_array[:-n]\n",
    "    test = scaled_array[-n:]\n",
    "    dates_train = dates[:-n]\n",
    "    dates_test = dates[-n:]\n",
    "    #print('train length is',len(train),', test length is',len(test))\n",
    "    dates_train = dates_train[time_steps+1:]\n",
    "    dates_test = dates_test[time_steps+1:]\n",
    "    #print('dates train length is',len(dates_train),', dates test length is',len(dates_test))\n",
    "    return dates_train, dates_test, train, test, scaled_array,dates, scaler,array\n",
    "\n",
    "dates_train, dates_test, train, test, scaled_array,dates,scaler,array = load_train_data('2013-01-01','2023-06-05',80)"
   ]
  },
  {
   "cell_type": "code",
   "execution_count": 3,
   "metadata": {},
   "outputs": [],
   "source": [
    "def process_data(data_array,time_steps):\n",
    "  y_data = data_array[time_steps+1:]\n",
    "  x_data = np.concatenate([data_array[j:len(data_array)+j-1-time_steps] for j in range(time_steps+1)],axis=1)\n",
    "  x_data = x_data.reshape((len(data_array)-time_steps-1,time_steps+1,1))\n",
    "  #print('xdata shape is',x_data.shape,', ydata length is',len(y_data))\n",
    "  return x_data, y_data\n",
    "\n",
    "x_train, y_train = process_data(train,80)\n",
    "x_test, y_test = process_data(test,80)"
   ]
  },
  {
   "cell_type": "code",
   "execution_count": 4,
   "metadata": {},
   "outputs": [
    {
     "name": "stdout",
     "output_type": "stream",
     "text": [
      "Epoch 1/5\n",
      "15/15 [==============================] - 13s 79ms/step - loss: 0.0190\n",
      "Epoch 2/5\n",
      "15/15 [==============================] - 1s 65ms/step - loss: 0.0028\n",
      "Epoch 3/5\n",
      "15/15 [==============================] - 1s 63ms/step - loss: 9.9591e-04\n",
      "Epoch 4/5\n",
      "15/15 [==============================] - 1s 63ms/step - loss: 6.4496e-04\n",
      "Epoch 5/5\n",
      "15/15 [==============================] - 1s 62ms/step - loss: 5.7662e-04\n",
      "18/18 [==============================] - 4s 32ms/step\n"
     ]
    }
   ],
   "source": [
    "def train_model(time_steps):\n",
    "    model = Sequential([\n",
    "    LSTM(50, return_sequences=True, input_shape=(time_steps+1,1)),\n",
    "    LSTM(50, return_sequences=True),\n",
    "    LSTM(50),\n",
    "    Dense(1)\n",
    "    ])\n",
    "    model.compile(loss='mean_squared_error',optimizer='adam')\n",
    "    #print(model.summary())\n",
    "    history = model.fit(x_train,y_train,epochs=5,batch_size=128)\n",
    "    y_pred = model.predict(x_test)\n",
    "    #unscaled_y_pred = scaler.inverse_transform(y_pred)\n",
    "    #unscaled_y_test = scaler.inverse_transform(y_test)\n",
    "    #rmse_error = mean_squared_error(unscaled_y_test,unscaled_y_pred)\n",
    "    #print('RMSE on test data',rmse_error)\n",
    "    return model\n",
    "\n",
    "model = train_model(80)"
   ]
  },
  {
   "cell_type": "code",
   "execution_count": 5,
   "metadata": {},
   "outputs": [
    {
     "name": "stdout",
     "output_type": "stream",
     "text": [
      "1/1 [==============================] - 0s 155ms/step\n",
      "1/1 [==============================] - 0s 62ms/step\n",
      "1/1 [==============================] - 0s 75ms/step\n",
      "1/1 [==============================] - 0s 79ms/step\n",
      "1/1 [==============================] - 0s 77ms/step\n",
      "1/1 [==============================] - 0s 80ms/step\n",
      "1/1 [==============================] - 0s 79ms/step\n",
      "1/1 [==============================] - 0s 79ms/step\n",
      "1/1 [==============================] - 0s 77ms/step\n",
      "1/1 [==============================] - 0s 81ms/step\n",
      "1/1 [==============================] - 0s 121ms/step\n",
      "1/1 [==============================] - 0s 151ms/step\n",
      "1/1 [==============================] - 0s 90ms/step\n",
      "1/1 [==============================] - 0s 69ms/step\n",
      "1/1 [==============================] - 0s 68ms/step\n",
      "1/1 [==============================] - 0s 68ms/step\n",
      "1/1 [==============================] - 0s 70ms/step\n",
      "1/1 [==============================] - 0s 78ms/step\n",
      "1/1 [==============================] - 0s 72ms/step\n",
      "1/1 [==============================] - 0s 76ms/step\n",
      "1/1 [==============================] - 0s 148ms/step\n",
      "1/1 [==============================] - 0s 68ms/step\n",
      "1/1 [==============================] - 0s 70ms/step\n",
      "1/1 [==============================] - 0s 75ms/step\n",
      "1/1 [==============================] - 0s 73ms/step\n",
      "1/1 [==============================] - 0s 78ms/step\n",
      "1/1 [==============================] - 0s 78ms/step\n",
      "1/1 [==============================] - 0s 79ms/step\n",
      "1/1 [==============================] - 0s 80ms/step\n",
      "1/1 [==============================] - 0s 126ms/step\n"
     ]
    }
   ],
   "source": [
    "\n",
    "def predict_future(n_steps,time_steps):\n",
    "  pred_dates = pd.bdate_range(start=dates[-1],periods=n_steps)\n",
    "  array = scaled_array[-(time_steps+2):] \n",
    "  pred_stocks = np.empty(n_steps) # initial empty list\n",
    "  for i in range(n_steps):\n",
    "    x,y = process_data(array,time_steps)\n",
    "    y_pred = model.predict(x)\n",
    "    y_pred_unscaled = scaler.inverse_transform(y_pred.reshape(1,-1)) #[[value]]\n",
    "    pred_stocks[i] = y_pred_unscaled.flatten()\n",
    "    array = np.append(array,y_pred,axis=0)\n",
    "    array = array[1:]\n",
    "  return pred_stocks, pred_dates\n",
    "\n",
    "pred_stocks, pred_dates = predict_future(30,80)"
   ]
  },
  {
   "cell_type": "code",
   "execution_count": 6,
   "metadata": {},
   "outputs": [
    {
     "data": {
      "text/plain": [
       "[<matplotlib.lines.Line2D at 0x2493986f670>]"
      ]
     },
     "execution_count": 6,
     "metadata": {},
     "output_type": "execute_result"
    },
    {
     "data": {
      "image/png": "[encoded data removed]",
      "text/plain": [
       "<Figure size 640x480 with 1 Axes>"
      ]
     },
     "metadata": {},
     "output_type": "display_data"
    }
   ],
   "source": [
    "fig1,ax1 = plt.subplots()\n",
    "ax1.plot(dates,array)\n",
    "ax1.plot(pred_dates,pred_stocks)"
   ]
  },
  {
   "cell_type": "code",
   "execution_count": null,
   "metadata": {},
   "outputs": [],
   "source": []
  }
 ],
 "metadata": {
  "kernelspec": {
   "display_name": "base",
   "language": "python",
   "name": "python3"
  },
  "language_info": {
   "codemirror_mode": {
    "name": "ipython",
    "version": 3
   },
   "file_extension": ".py",
   "mimetype": "text/x-python",
   "name": "python",
   "nbconvert_exporter": "python",
   "pygments_lexer": "ipython3",
   "version": "3.10.11"
  },
  "orig_nbformat": 4
 },
 "nbformat": 4,
 "nbformat_minor": 2
}
