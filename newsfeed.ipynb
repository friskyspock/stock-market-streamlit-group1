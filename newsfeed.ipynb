{
 "cells": [
  {
   "cell_type": "code",
   "execution_count": 6,
   "metadata": {},
   "outputs": [],
   "source": [
    "from bs4 import BeautifulSoup\n",
    "import requests\n",
    "import pandas as pd\n",
    "from datetime import datetime\n",
    "from django.utils.dateparse import parse_date"
   ]
  },
  {
   "cell_type": "code",
   "execution_count": 2,
   "metadata": {},
   "outputs": [],
   "source": [
    "url = \"https://www.moneycontrol.com/rss/MCtopnews.xml\"\n",
    "#url = \"https://economictimes.indiatimes.com/markets/rssfeeds/1977021501.cms\"\n",
    "response = requests.get(url)"
   ]
  },
  {
   "cell_type": "code",
   "execution_count": 3,
   "metadata": {},
   "outputs": [],
   "source": [
    "soup = BeautifulSoup(response.content, features='xml')"
   ]
  },
  {
   "cell_type": "code",
   "execution_count": 9,
   "metadata": {},
   "outputs": [
    {
     "name": "stdout",
     "output_type": "stream",
     "text": [
      "2016-10-05 14:00:44+05:30\n",
      "2016-10-05 14:42:19+05:30\n",
      "2016-10-05 10:54:17+05:30\n",
      "2016-10-05 08:00:04+05:30\n",
      "2016-10-05 10:33:49+05:30\n",
      "2016-10-05 09:00:17+05:30\n",
      "2016-10-05 09:04:03+05:30\n",
      "2016-10-05 14:50:10+05:30\n",
      "2016-10-05 14:59:14+05:30\n",
      "2016-10-05 13:39:13+05:30\n",
      "2016-10-05 12:02:15+05:30\n",
      "2016-10-05 12:27:10+05:30\n",
      "2016-10-05 10:00:07+05:30\n",
      "2016-10-05 12:28:33+05:30\n",
      "2016-10-05 10:07:15+05:30\n",
      "2016-10-05 12:53:07+05:30\n",
      "2016-10-05 11:54:06+05:30\n",
      "2016-10-05 14:00:34+05:30\n"
     ]
    }
   ],
   "source": [
    "for item in soup.find_all('item'):\n",
    "    print(pd.to_datetime(item.find('pubDate').get_text()))"
   ]
  },
  {
   "cell_type": "code",
   "execution_count": 61,
   "metadata": {},
   "outputs": [],
   "source": [
    "titles = []\n",
    "links = []\n",
    "descriptions = []\n",
    "pubdates = []\n",
    "for item in soup.find_all('item'):\n",
    "    titles.append(item.find('title').get_text())\n",
    "    links.append(item.find('link').get_text())\n",
    "    #descriptions.append(item.find('description').text.split('</a>')[-1])\n",
    "    descriptions.append(item.find('description').text.split('/>')[-1])\n",
    "    pubdates.append(item.find('pubDate').get_text())"
   ]
  },
  {
   "cell_type": "code",
   "execution_count": 62,
   "metadata": {},
   "outputs": [],
   "source": [
    "data = pd.DataFrame({'Title':titles,'Link':links,'Description':descriptions,'Date':pubdates})"
   ]
  },
  {
   "cell_type": "code",
   "execution_count": 63,
   "metadata": {},
   "outputs": [
    {
     "data": {
      "text/plain": [
       "0    2016-10-05 14:00:44+05:30\n",
       "1    2016-10-05 14:42:19+05:30\n",
       "2    2016-10-05 10:54:17+05:30\n",
       "3    2016-10-05 08:00:04+05:30\n",
       "4    2016-10-05 10:33:49+05:30\n",
       "5    2016-10-05 09:00:17+05:30\n",
       "6    2016-10-05 09:04:03+05:30\n",
       "7    2016-10-05 14:50:10+05:30\n",
       "8    2016-10-05 14:59:14+05:30\n",
       "9    2016-10-05 13:39:13+05:30\n",
       "10   2016-10-05 12:02:15+05:30\n",
       "11   2016-10-05 12:27:10+05:30\n",
       "12   2016-10-05 10:00:07+05:30\n",
       "13   2016-10-05 12:28:33+05:30\n",
       "14   2016-10-05 10:07:15+05:30\n",
       "15   2016-10-05 12:53:07+05:30\n",
       "16   2016-10-05 11:54:06+05:30\n",
       "17   2016-10-05 14:00:34+05:30\n",
       "Name: Date, dtype: datetime64[ns, UTC+05:30]"
      ]
     },
     "execution_count": 63,
     "metadata": {},
     "output_type": "execute_result"
    }
   ],
   "source": [
    "pd.to_datetime(data['Date'])"
   ]
  },
  {
   "cell_type": "code",
   "execution_count": 55,
   "metadata": {},
   "outputs": [
    {
     "data": {
      "text/html": [
       "<div>\n",
       "<style scoped>\n",
       "    .dataframe tbody tr th:only-of-type {\n",
       "        vertical-align: middle;\n",
       "    }\n",
       "\n",
       "    .dataframe tbody tr th {\n",
       "        vertical-align: top;\n",
       "    }\n",
       "\n",
       "    .dataframe thead th {\n",
       "        text-align: right;\n",
       "    }\n",
       "</style>\n",
       "<table border=\"1\" class=\"dataframe\">\n",
       "  <thead>\n",
       "    <tr style=\"text-align: right;\">\n",
       "      <th></th>\n",
       "      <th>Title</th>\n",
       "      <th>Link</th>\n",
       "      <th>Description</th>\n",
       "    </tr>\n",
       "  </thead>\n",
       "  <tbody>\n",
       "    <tr>\n",
       "      <th>0</th>\n",
       "      <td>Sensex, Nifty wobbly; Hind Zinc, SBI, Force Mo...</td>\n",
       "      <td>http://www.moneycontrol.com/news/local-markets...</td>\n",
       "      <td>Asian Paints, SBI, Tata Motors, HUL and Marut...</td>\n",
       "    </tr>\n",
       "    <tr>\n",
       "      <th>1</th>\n",
       "      <td>Moneycontrol Exclusive: Govt plans overhaul of...</td>\n",
       "      <td>http://www.moneycontrol.com/news/business/mone...</td>\n",
       "      <td>The government has readied plans for a major ...</td>\n",
       "    </tr>\n",
       "    <tr>\n",
       "      <th>2</th>\n",
       "      <td>Bond bull market may pause but is far from ove...</td>\n",
       "      <td>http://www.moneycontrol.com/news/economy/bond-...</td>\n",
       "      <td>The benchmark 10-year government-security yie...</td>\n",
       "    </tr>\n",
       "    <tr>\n",
       "      <th>3</th>\n",
       "      <td>Automation threatens 69% jobs in India: World ...</td>\n",
       "      <td>http://www.moneycontrol.com/news/current-affai...</td>\n",
       "      <td>\"In large parts of Africa, it is likely that ...</td>\n",
       "    </tr>\n",
       "    <tr>\n",
       "      <th>4</th>\n",
       "      <td>Scope for meaningful rate cuts going ahead: Ne...</td>\n",
       "      <td>http://www.moneycontrol.com/news/market-outloo...</td>\n",
       "      <td>Credit Suisse' Neelkanth Mishra expects repo ...</td>\n",
       "    </tr>\n",
       "  </tbody>\n",
       "</table>\n",
       "</div>"
      ],
      "text/plain": [
       "                                               Title  \\\n",
       "0  Sensex, Nifty wobbly; Hind Zinc, SBI, Force Mo...   \n",
       "1  Moneycontrol Exclusive: Govt plans overhaul of...   \n",
       "2  Bond bull market may pause but is far from ove...   \n",
       "3  Automation threatens 69% jobs in India: World ...   \n",
       "4  Scope for meaningful rate cuts going ahead: Ne...   \n",
       "\n",
       "                                                Link  \\\n",
       "0  http://www.moneycontrol.com/news/local-markets...   \n",
       "1  http://www.moneycontrol.com/news/business/mone...   \n",
       "2  http://www.moneycontrol.com/news/economy/bond-...   \n",
       "3  http://www.moneycontrol.com/news/current-affai...   \n",
       "4  http://www.moneycontrol.com/news/market-outloo...   \n",
       "\n",
       "                                         Description  \n",
       "0   Asian Paints, SBI, Tata Motors, HUL and Marut...  \n",
       "1   The government has readied plans for a major ...  \n",
       "2   The benchmark 10-year government-security yie...  \n",
       "3   \"In large parts of Africa, it is likely that ...  \n",
       "4   Credit Suisse' Neelkanth Mishra expects repo ...  "
      ]
     },
     "execution_count": 55,
     "metadata": {},
     "output_type": "execute_result"
    }
   ],
   "source": [
    "data.head()"
   ]
  }
 ],
 "metadata": {
  "kernelspec": {
   "display_name": ".venv",
   "language": "python",
   "name": "python3"
  },
  "language_info": {
   "codemirror_mode": {
    "name": "ipython",
    "version": 3
   },
   "file_extension": ".py",
   "mimetype": "text/x-python",
   "name": "python",
   "nbconvert_exporter": "python",
   "pygments_lexer": "ipython3",
   "version": "3.10.6"
  },
  "orig_nbformat": 4
 },
 "nbformat": 4,
 "nbformat_minor": 2
}
